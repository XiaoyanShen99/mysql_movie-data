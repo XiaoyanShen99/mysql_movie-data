{
 "cells": [
  {
   "cell_type": "code",
   "execution_count": 1,
   "id": "450ec440-497d-41db-8e7f-8b9162792fcb",
   "metadata": {},
   "outputs": [],
   "source": [
    "import pandas as pd\n",
    "import numpy as np"
   ]
  },
  {
   "cell_type": "code",
   "execution_count": 2,
   "id": "df2e87c2-9d5c-47a2-a9ce-8ce4f85d6cc0",
   "metadata": {},
   "outputs": [],
   "source": [
    "movie = pd.read_csv(\"movie_metadata.csv\")"
   ]
  },
  {
   "cell_type": "markdown",
   "id": "a17f0cb6-7280-48c8-9ce8-ac790faefd72",
   "metadata": {},
   "source": [
    "## Prepare the Movie_Genre and Genre table"
   ]
  },
  {
   "cell_type": "code",
   "execution_count": 3,
   "id": "8efcd158-13ce-4e9c-a25c-715bab5f18be",
   "metadata": {},
   "outputs": [],
   "source": [
    "mg = pd.read_csv(\"movie_genre_row.csv\")"
   ]
  },
  {
   "cell_type": "code",
   "execution_count": 4,
   "id": "0e875db1-ee33-4ce7-bc43-f362cee51b57",
   "metadata": {},
   "outputs": [
    {
     "data": {
      "text/html": [
       "<div>\n",
       "<style scoped>\n",
       "    .dataframe tbody tr th:only-of-type {\n",
       "        vertical-align: middle;\n",
       "    }\n",
       "\n",
       "    .dataframe tbody tr th {\n",
       "        vertical-align: top;\n",
       "    }\n",
       "\n",
       "    .dataframe thead th {\n",
       "        text-align: right;\n",
       "    }\n",
       "</style>\n",
       "<table border=\"1\" class=\"dataframe\">\n",
       "  <thead>\n",
       "    <tr style=\"text-align: right;\">\n",
       "      <th></th>\n",
       "      <th>title</th>\n",
       "      <th>genre</th>\n",
       "    </tr>\n",
       "  </thead>\n",
       "  <tbody>\n",
       "    <tr>\n",
       "      <th>0</th>\n",
       "      <td>Avatar</td>\n",
       "      <td>Action|Adventure|Fantasy|Sci-Fi</td>\n",
       "    </tr>\n",
       "    <tr>\n",
       "      <th>1</th>\n",
       "      <td>Pirates of the Caribbean: At World's End</td>\n",
       "      <td>Action|Adventure|Fantasy</td>\n",
       "    </tr>\n",
       "    <tr>\n",
       "      <th>2</th>\n",
       "      <td>Spectre</td>\n",
       "      <td>Action|Adventure|Thriller</td>\n",
       "    </tr>\n",
       "    <tr>\n",
       "      <th>3</th>\n",
       "      <td>The Dark Knight Rises</td>\n",
       "      <td>Action|Thriller</td>\n",
       "    </tr>\n",
       "    <tr>\n",
       "      <th>4</th>\n",
       "      <td>Star Wars: Episode VII - The Force Awakens</td>\n",
       "      <td>Documentary</td>\n",
       "    </tr>\n",
       "  </tbody>\n",
       "</table>\n",
       "</div>"
      ],
      "text/plain": [
       "                                        title                            genre\n",
       "0                                      Avatar  Action|Adventure|Fantasy|Sci-Fi\n",
       "1    Pirates of the Caribbean: At World's End         Action|Adventure|Fantasy\n",
       "2                                     Spectre        Action|Adventure|Thriller\n",
       "3                       The Dark Knight Rises                  Action|Thriller\n",
       "4  Star Wars: Episode VII - The Force Awakens                      Documentary"
      ]
     },
     "execution_count": 4,
     "metadata": {},
     "output_type": "execute_result"
    }
   ],
   "source": [
    "mg.head()"
   ]
  },
  {
   "cell_type": "code",
   "execution_count": 5,
   "id": "fd5441e7-8941-46d2-8367-273962b2eb22",
   "metadata": {},
   "outputs": [
    {
     "data": {
      "text/html": [
       "<div>\n",
       "<style scoped>\n",
       "    .dataframe tbody tr th:only-of-type {\n",
       "        vertical-align: middle;\n",
       "    }\n",
       "\n",
       "    .dataframe tbody tr th {\n",
       "        vertical-align: top;\n",
       "    }\n",
       "\n",
       "    .dataframe thead th {\n",
       "        text-align: right;\n",
       "    }\n",
       "</style>\n",
       "<table border=\"1\" class=\"dataframe\">\n",
       "  <thead>\n",
       "    <tr style=\"text-align: right;\">\n",
       "      <th></th>\n",
       "      <th>title</th>\n",
       "      <th>genre</th>\n",
       "    </tr>\n",
       "  </thead>\n",
       "  <tbody>\n",
       "    <tr>\n",
       "      <th>0</th>\n",
       "      <td>Avatar</td>\n",
       "      <td>Action</td>\n",
       "    </tr>\n",
       "    <tr>\n",
       "      <th>1</th>\n",
       "      <td>Avatar</td>\n",
       "      <td>Adventure</td>\n",
       "    </tr>\n",
       "    <tr>\n",
       "      <th>2</th>\n",
       "      <td>Avatar</td>\n",
       "      <td>Fantasy</td>\n",
       "    </tr>\n",
       "    <tr>\n",
       "      <th>3</th>\n",
       "      <td>Avatar</td>\n",
       "      <td>Sci-Fi</td>\n",
       "    </tr>\n",
       "    <tr>\n",
       "      <th>4</th>\n",
       "      <td>Pirates of the Caribbean: At World's End</td>\n",
       "      <td>Action</td>\n",
       "    </tr>\n",
       "    <tr>\n",
       "      <th>5</th>\n",
       "      <td>Pirates of the Caribbean: At World's End</td>\n",
       "      <td>Adventure</td>\n",
       "    </tr>\n",
       "    <tr>\n",
       "      <th>6</th>\n",
       "      <td>Pirates of the Caribbean: At World's End</td>\n",
       "      <td>Fantasy</td>\n",
       "    </tr>\n",
       "    <tr>\n",
       "      <th>7</th>\n",
       "      <td>Spectre</td>\n",
       "      <td>Action</td>\n",
       "    </tr>\n",
       "    <tr>\n",
       "      <th>8</th>\n",
       "      <td>Spectre</td>\n",
       "      <td>Adventure</td>\n",
       "    </tr>\n",
       "    <tr>\n",
       "      <th>9</th>\n",
       "      <td>Spectre</td>\n",
       "      <td>Thriller</td>\n",
       "    </tr>\n",
       "  </tbody>\n",
       "</table>\n",
       "</div>"
      ],
      "text/plain": [
       "                                      title      genre\n",
       "0                                    Avatar     Action\n",
       "1                                    Avatar  Adventure\n",
       "2                                    Avatar    Fantasy\n",
       "3                                    Avatar     Sci-Fi\n",
       "4  Pirates of the Caribbean: At World's End     Action\n",
       "5  Pirates of the Caribbean: At World's End  Adventure\n",
       "6  Pirates of the Caribbean: At World's End    Fantasy\n",
       "7                                   Spectre     Action\n",
       "8                                   Spectre  Adventure\n",
       "9                                   Spectre   Thriller"
      ]
     },
     "execution_count": 5,
     "metadata": {},
     "output_type": "execute_result"
    }
   ],
   "source": [
    "movie_genre = (mg.set_index(['title'])\n",
    "   .apply(lambda x: x.str.split('|').explode())\n",
    "   .reset_index())\n",
    "movie_genre.head(10)"
   ]
  },
  {
   "cell_type": "code",
   "execution_count": 6,
   "id": "36e9d641-455c-4e42-9210-590b6096d6e8",
   "metadata": {},
   "outputs": [],
   "source": [
    "## create genre table from the above dataframe\n",
    "genre = pd.DataFrame(movie_genre.genre)\n",
    "genre.drop_duplicates(inplace = True)"
   ]
  },
  {
   "cell_type": "code",
   "execution_count": 10,
   "id": "11fa031c-4ad0-44b8-8de3-838591ab689e",
   "metadata": {},
   "outputs": [
    {
     "data": {
      "text/plain": [
       "(       genre\n",
       " 0     Action\n",
       " 1  Adventure\n",
       " 2    Fantasy\n",
       " 3     Sci-Fi\n",
       " 4   Thriller,\n",
       " (26, 1))"
      ]
     },
     "execution_count": 10,
     "metadata": {},
     "output_type": "execute_result"
    }
   ],
   "source": [
    "genre = genre.reset_index().drop(\"index\",1)\n",
    "genre.head(), genre.shape"
   ]
  },
  {
   "cell_type": "code",
   "execution_count": 13,
   "id": "14c59121-ba52-412b-b600-e5bdaeb0b766",
   "metadata": {},
   "outputs": [],
   "source": [
    "movie_genre.to_csv(\"movie_genre.csv\")\n",
    "genre.to_csv(\"genre.csv\")"
   ]
  },
  {
   "cell_type": "markdown",
   "id": "388ebbcc-aa4b-4b19-a9cd-0271d6f05d7d",
   "metadata": {},
   "source": [
    "## Prepare the Director table"
   ]
  },
  {
   "cell_type": "code",
   "execution_count": 17,
   "id": "0fc2eee4-96e0-4c71-a3c3-b8f9a4427feb",
   "metadata": {},
   "outputs": [
    {
     "data": {
      "text/plain": [
       "(5042, 2)"
      ]
     },
     "execution_count": 17,
     "metadata": {},
     "output_type": "execute_result"
    }
   ],
   "source": [
    "director = pd.read_csv(\"director_row.csv\")\n",
    "director.shape"
   ]
  },
  {
   "cell_type": "code",
   "execution_count": 18,
   "id": "1c9c3784-59ca-4a4c-983e-ed9074201d96",
   "metadata": {},
   "outputs": [
    {
     "data": {
      "text/plain": [
       "(2402, 2)"
      ]
     },
     "execution_count": 18,
     "metadata": {},
     "output_type": "execute_result"
    }
   ],
   "source": [
    "director.drop_duplicates(inplace = True)\n",
    "director.dropna(inplace = True)\n",
    "director.shape"
   ]
  },
  {
   "cell_type": "code",
   "execution_count": 19,
   "id": "938c691e-921f-4e9e-8673-e89405fb85b7",
   "metadata": {},
   "outputs": [
    {
     "data": {
      "text/html": [
       "<div>\n",
       "<style scoped>\n",
       "    .dataframe tbody tr th:only-of-type {\n",
       "        vertical-align: middle;\n",
       "    }\n",
       "\n",
       "    .dataframe tbody tr th {\n",
       "        vertical-align: top;\n",
       "    }\n",
       "\n",
       "    .dataframe thead th {\n",
       "        text-align: right;\n",
       "    }\n",
       "</style>\n",
       "<table border=\"1\" class=\"dataframe\">\n",
       "  <thead>\n",
       "    <tr style=\"text-align: right;\">\n",
       "      <th></th>\n",
       "      <th>director_name</th>\n",
       "      <th>director_fb_likes</th>\n",
       "    </tr>\n",
       "  </thead>\n",
       "  <tbody>\n",
       "    <tr>\n",
       "      <th>0</th>\n",
       "      <td>James Cameron</td>\n",
       "      <td>0.0</td>\n",
       "    </tr>\n",
       "    <tr>\n",
       "      <th>1</th>\n",
       "      <td>Gore Verbinski</td>\n",
       "      <td>563.0</td>\n",
       "    </tr>\n",
       "    <tr>\n",
       "      <th>2</th>\n",
       "      <td>Sam Mendes</td>\n",
       "      <td>0.0</td>\n",
       "    </tr>\n",
       "    <tr>\n",
       "      <th>3</th>\n",
       "      <td>Christopher Nolan</td>\n",
       "      <td>22000.0</td>\n",
       "    </tr>\n",
       "    <tr>\n",
       "      <th>4</th>\n",
       "      <td>Doug Walker</td>\n",
       "      <td>131.0</td>\n",
       "    </tr>\n",
       "  </tbody>\n",
       "</table>\n",
       "</div>"
      ],
      "text/plain": [
       "       director_name  director_fb_likes\n",
       "0      James Cameron                0.0\n",
       "1     Gore Verbinski              563.0\n",
       "2         Sam Mendes                0.0\n",
       "3  Christopher Nolan            22000.0\n",
       "4        Doug Walker              131.0"
      ]
     },
     "execution_count": 19,
     "metadata": {},
     "output_type": "execute_result"
    }
   ],
   "source": [
    "director.head()"
   ]
  },
  {
   "cell_type": "code",
   "execution_count": 26,
   "id": "3bb06c67-d687-47a3-b6a6-0205eb818bbc",
   "metadata": {},
   "outputs": [
    {
     "data": {
      "text/html": [
       "<div>\n",
       "<style scoped>\n",
       "    .dataframe tbody tr th:only-of-type {\n",
       "        vertical-align: middle;\n",
       "    }\n",
       "\n",
       "    .dataframe tbody tr th {\n",
       "        vertical-align: top;\n",
       "    }\n",
       "\n",
       "    .dataframe thead th {\n",
       "        text-align: right;\n",
       "    }\n",
       "</style>\n",
       "<table border=\"1\" class=\"dataframe\">\n",
       "  <thead>\n",
       "    <tr style=\"text-align: right;\">\n",
       "      <th></th>\n",
       "      <th>director</th>\n",
       "      <th>fb_like</th>\n",
       "    </tr>\n",
       "  </thead>\n",
       "  <tbody>\n",
       "    <tr>\n",
       "      <th>0</th>\n",
       "      <td>James Cameron</td>\n",
       "      <td>0.0</td>\n",
       "    </tr>\n",
       "    <tr>\n",
       "      <th>1</th>\n",
       "      <td>Gore Verbinski</td>\n",
       "      <td>563.0</td>\n",
       "    </tr>\n",
       "    <tr>\n",
       "      <th>2</th>\n",
       "      <td>Sam Mendes</td>\n",
       "      <td>0.0</td>\n",
       "    </tr>\n",
       "    <tr>\n",
       "      <th>3</th>\n",
       "      <td>Christopher Nolan</td>\n",
       "      <td>22000.0</td>\n",
       "    </tr>\n",
       "    <tr>\n",
       "      <th>4</th>\n",
       "      <td>Doug Walker</td>\n",
       "      <td>131.0</td>\n",
       "    </tr>\n",
       "  </tbody>\n",
       "</table>\n",
       "</div>"
      ],
      "text/plain": [
       "            director  fb_like\n",
       "0      James Cameron      0.0\n",
       "1     Gore Verbinski    563.0\n",
       "2         Sam Mendes      0.0\n",
       "3  Christopher Nolan  22000.0\n",
       "4        Doug Walker    131.0"
      ]
     },
     "execution_count": 26,
     "metadata": {},
     "output_type": "execute_result"
    }
   ],
   "source": [
    "director.rename(columns ={\"director_name\":\"director\", \"director_fb_likes\":\"fb_like\"}, inplace = True)\n",
    "director.head()"
   ]
  },
  {
   "cell_type": "code",
   "execution_count": 33,
   "id": "f77cb9fb-632e-45ee-afa4-dcbb7500a913",
   "metadata": {},
   "outputs": [],
   "source": [
    "director.to_csv(\"director.csv\")"
   ]
  },
  {
   "cell_type": "markdown",
   "id": "43348978-a6ef-473a-abe6-3a2eb1e05e84",
   "metadata": {},
   "source": [
    "## Prepare the Actor table"
   ]
  },
  {
   "cell_type": "code",
   "execution_count": 27,
   "id": "2602bca9-1d3f-401c-b359-fca74b901b3e",
   "metadata": {},
   "outputs": [
    {
     "data": {
      "text/html": [
       "<div>\n",
       "<style scoped>\n",
       "    .dataframe tbody tr th:only-of-type {\n",
       "        vertical-align: middle;\n",
       "    }\n",
       "\n",
       "    .dataframe tbody tr th {\n",
       "        vertical-align: top;\n",
       "    }\n",
       "\n",
       "    .dataframe thead th {\n",
       "        text-align: right;\n",
       "    }\n",
       "</style>\n",
       "<table border=\"1\" class=\"dataframe\">\n",
       "  <thead>\n",
       "    <tr style=\"text-align: right;\">\n",
       "      <th></th>\n",
       "      <th>name</th>\n",
       "      <th>fb_like</th>\n",
       "    </tr>\n",
       "  </thead>\n",
       "  <tbody>\n",
       "    <tr>\n",
       "      <th>0</th>\n",
       "      <td>CCH Pounder</td>\n",
       "      <td>1000.0</td>\n",
       "    </tr>\n",
       "    <tr>\n",
       "      <th>1</th>\n",
       "      <td>Johnny Depp</td>\n",
       "      <td>40000.0</td>\n",
       "    </tr>\n",
       "    <tr>\n",
       "      <th>2</th>\n",
       "      <td>Christoph Waltz</td>\n",
       "      <td>11000.0</td>\n",
       "    </tr>\n",
       "    <tr>\n",
       "      <th>3</th>\n",
       "      <td>Tom Hardy</td>\n",
       "      <td>27000.0</td>\n",
       "    </tr>\n",
       "    <tr>\n",
       "      <th>4</th>\n",
       "      <td>Doug Walker</td>\n",
       "      <td>131.0</td>\n",
       "    </tr>\n",
       "  </tbody>\n",
       "</table>\n",
       "</div>"
      ],
      "text/plain": [
       "              name  fb_like\n",
       "0      CCH Pounder   1000.0\n",
       "1      Johnny Depp  40000.0\n",
       "2  Christoph Waltz  11000.0\n",
       "3        Tom Hardy  27000.0\n",
       "4      Doug Walker    131.0"
      ]
     },
     "execution_count": 27,
     "metadata": {},
     "output_type": "execute_result"
    }
   ],
   "source": [
    "actor = pd.read_csv(\"actor_row.csv\")\n",
    "actor.head()"
   ]
  },
  {
   "cell_type": "code",
   "execution_count": 31,
   "id": "81a3db91-e855-41b7-b7a4-bb509d1250d9",
   "metadata": {},
   "outputs": [
    {
     "data": {
      "text/html": [
       "<div>\n",
       "<style scoped>\n",
       "    .dataframe tbody tr th:only-of-type {\n",
       "        vertical-align: middle;\n",
       "    }\n",
       "\n",
       "    .dataframe tbody tr th {\n",
       "        vertical-align: top;\n",
       "    }\n",
       "\n",
       "    .dataframe thead th {\n",
       "        text-align: right;\n",
       "    }\n",
       "</style>\n",
       "<table border=\"1\" class=\"dataframe\">\n",
       "  <thead>\n",
       "    <tr style=\"text-align: right;\">\n",
       "      <th></th>\n",
       "      <th>actor</th>\n",
       "      <th>fb_like</th>\n",
       "    </tr>\n",
       "  </thead>\n",
       "  <tbody>\n",
       "    <tr>\n",
       "      <th>0</th>\n",
       "      <td>CCH Pounder</td>\n",
       "      <td>1000.0</td>\n",
       "    </tr>\n",
       "    <tr>\n",
       "      <th>1</th>\n",
       "      <td>Johnny Depp</td>\n",
       "      <td>40000.0</td>\n",
       "    </tr>\n",
       "    <tr>\n",
       "      <th>2</th>\n",
       "      <td>Christoph Waltz</td>\n",
       "      <td>11000.0</td>\n",
       "    </tr>\n",
       "    <tr>\n",
       "      <th>3</th>\n",
       "      <td>Tom Hardy</td>\n",
       "      <td>27000.0</td>\n",
       "    </tr>\n",
       "    <tr>\n",
       "      <th>4</th>\n",
       "      <td>Doug Walker</td>\n",
       "      <td>131.0</td>\n",
       "    </tr>\n",
       "  </tbody>\n",
       "</table>\n",
       "</div>"
      ],
      "text/plain": [
       "             actor  fb_like\n",
       "0      CCH Pounder   1000.0\n",
       "1      Johnny Depp  40000.0\n",
       "2  Christoph Waltz  11000.0\n",
       "3        Tom Hardy  27000.0\n",
       "4      Doug Walker    131.0"
      ]
     },
     "execution_count": 31,
     "metadata": {},
     "output_type": "execute_result"
    }
   ],
   "source": [
    "actor.drop_duplicates(inplace = True)\n",
    "actor.dropna(inplace = True)\n",
    "actor.rename(columns = {\"name\" : \"actor\"}, inplace = True)\n",
    "actor.reset_index().drop(\"index\", axis = 1)\n",
    "actor.head()"
   ]
  },
  {
   "cell_type": "code",
   "execution_count": 32,
   "id": "3060471a-446b-412b-be73-199788291c3f",
   "metadata": {},
   "outputs": [],
   "source": [
    "actor.to_csv(\"actor.csv\")"
   ]
  },
  {
   "cell_type": "markdown",
   "id": "c0b99df2-7d3b-410c-8b8d-c63434e47f41",
   "metadata": {},
   "source": [
    "## Prepare the Movie_Actor table"
   ]
  },
  {
   "cell_type": "code",
   "execution_count": 7,
   "id": "93712b56-15ed-4873-8478-be33ddb18d60",
   "metadata": {},
   "outputs": [],
   "source": [
    "ma = pd.read_csv(\"movie_actor_row.csv\")"
   ]
  },
  {
   "cell_type": "code",
   "execution_count": 8,
   "id": "41da14df-3d61-4f66-a658-c6d1b1e8d42b",
   "metadata": {},
   "outputs": [
    {
     "data": {
      "text/html": [
       "<div>\n",
       "<style scoped>\n",
       "    .dataframe tbody tr th:only-of-type {\n",
       "        vertical-align: middle;\n",
       "    }\n",
       "\n",
       "    .dataframe tbody tr th {\n",
       "        vertical-align: top;\n",
       "    }\n",
       "\n",
       "    .dataframe thead th {\n",
       "        text-align: right;\n",
       "    }\n",
       "</style>\n",
       "<table border=\"1\" class=\"dataframe\">\n",
       "  <thead>\n",
       "    <tr style=\"text-align: right;\">\n",
       "      <th></th>\n",
       "      <th>title</th>\n",
       "      <th>actor_1_name</th>\n",
       "      <th>actor_2_name</th>\n",
       "      <th>actor_3_name</th>\n",
       "    </tr>\n",
       "  </thead>\n",
       "  <tbody>\n",
       "    <tr>\n",
       "      <th>0</th>\n",
       "      <td>Avatar</td>\n",
       "      <td>CCH Pounder</td>\n",
       "      <td>Joel David Moore</td>\n",
       "      <td>Wes Studi</td>\n",
       "    </tr>\n",
       "    <tr>\n",
       "      <th>1</th>\n",
       "      <td>Pirates of the Caribbean: At World's End</td>\n",
       "      <td>Johnny Depp</td>\n",
       "      <td>Orlando Bloom</td>\n",
       "      <td>Jack Davenport</td>\n",
       "    </tr>\n",
       "    <tr>\n",
       "      <th>2</th>\n",
       "      <td>Spectre</td>\n",
       "      <td>Christoph Waltz</td>\n",
       "      <td>Rory Kinnear</td>\n",
       "      <td>Stephanie Sigman</td>\n",
       "    </tr>\n",
       "    <tr>\n",
       "      <th>3</th>\n",
       "      <td>The Dark Knight Rises</td>\n",
       "      <td>Tom Hardy</td>\n",
       "      <td>Christian Bale</td>\n",
       "      <td>Joseph Gordon-Levitt</td>\n",
       "    </tr>\n",
       "    <tr>\n",
       "      <th>4</th>\n",
       "      <td>Star Wars: Episode VII - The Force Awakens</td>\n",
       "      <td>Doug Walker</td>\n",
       "      <td>Rob Walker</td>\n",
       "      <td>NaN</td>\n",
       "    </tr>\n",
       "  </tbody>\n",
       "</table>\n",
       "</div>"
      ],
      "text/plain": [
       "                                        title     actor_1_name  \\\n",
       "0                                      Avatar      CCH Pounder   \n",
       "1    Pirates of the Caribbean: At World's End      Johnny Depp   \n",
       "2                                     Spectre  Christoph Waltz   \n",
       "3                       The Dark Knight Rises        Tom Hardy   \n",
       "4  Star Wars: Episode VII - The Force Awakens      Doug Walker   \n",
       "\n",
       "       actor_2_name          actor_3_name  \n",
       "0  Joel David Moore             Wes Studi  \n",
       "1     Orlando Bloom        Jack Davenport  \n",
       "2      Rory Kinnear      Stephanie Sigman  \n",
       "3    Christian Bale  Joseph Gordon-Levitt  \n",
       "4        Rob Walker                   NaN  "
      ]
     },
     "execution_count": 8,
     "metadata": {},
     "output_type": "execute_result"
    }
   ],
   "source": [
    "ma.head()"
   ]
  },
  {
   "cell_type": "code",
   "execution_count": 9,
   "id": "eb85e669-c5a2-4e69-8208-2cf84961384f",
   "metadata": {},
   "outputs": [
    {
     "data": {
      "text/html": [
       "<div>\n",
       "<style scoped>\n",
       "    .dataframe tbody tr th:only-of-type {\n",
       "        vertical-align: middle;\n",
       "    }\n",
       "\n",
       "    .dataframe tbody tr th {\n",
       "        vertical-align: top;\n",
       "    }\n",
       "\n",
       "    .dataframe thead th {\n",
       "        text-align: right;\n",
       "    }\n",
       "</style>\n",
       "<table border=\"1\" class=\"dataframe\">\n",
       "  <thead>\n",
       "    <tr style=\"text-align: right;\">\n",
       "      <th></th>\n",
       "      <th>title</th>\n",
       "      <th>name</th>\n",
       "    </tr>\n",
       "  </thead>\n",
       "  <tbody>\n",
       "    <tr>\n",
       "      <th>0</th>\n",
       "      <td>Avatar</td>\n",
       "      <td>CCH Pounder</td>\n",
       "    </tr>\n",
       "    <tr>\n",
       "      <th>1</th>\n",
       "      <td>Avatar</td>\n",
       "      <td>Joel David Moore</td>\n",
       "    </tr>\n",
       "    <tr>\n",
       "      <th>2</th>\n",
       "      <td>Avatar</td>\n",
       "      <td>Wes Studi</td>\n",
       "    </tr>\n",
       "    <tr>\n",
       "      <th>3</th>\n",
       "      <td>Pirates of the Caribbean: At World's End</td>\n",
       "      <td>Johnny Depp</td>\n",
       "    </tr>\n",
       "    <tr>\n",
       "      <th>4</th>\n",
       "      <td>Pirates of the Caribbean: At World's End</td>\n",
       "      <td>Orlando Bloom</td>\n",
       "    </tr>\n",
       "    <tr>\n",
       "      <th>5</th>\n",
       "      <td>Pirates of the Caribbean: At World's End</td>\n",
       "      <td>Jack Davenport</td>\n",
       "    </tr>\n",
       "    <tr>\n",
       "      <th>6</th>\n",
       "      <td>Spectre</td>\n",
       "      <td>Christoph Waltz</td>\n",
       "    </tr>\n",
       "    <tr>\n",
       "      <th>7</th>\n",
       "      <td>Spectre</td>\n",
       "      <td>Rory Kinnear</td>\n",
       "    </tr>\n",
       "    <tr>\n",
       "      <th>8</th>\n",
       "      <td>Spectre</td>\n",
       "      <td>Stephanie Sigman</td>\n",
       "    </tr>\n",
       "    <tr>\n",
       "      <th>9</th>\n",
       "      <td>The Dark Knight Rises</td>\n",
       "      <td>Tom Hardy</td>\n",
       "    </tr>\n",
       "  </tbody>\n",
       "</table>\n",
       "</div>"
      ],
      "text/plain": [
       "                                      title              name\n",
       "0                                    Avatar       CCH Pounder\n",
       "1                                    Avatar  Joel David Moore\n",
       "2                                    Avatar         Wes Studi\n",
       "3  Pirates of the Caribbean: At World's End       Johnny Depp\n",
       "4  Pirates of the Caribbean: At World's End     Orlando Bloom\n",
       "5  Pirates of the Caribbean: At World's End    Jack Davenport\n",
       "6                                   Spectre   Christoph Waltz\n",
       "7                                   Spectre      Rory Kinnear\n",
       "8                                   Spectre  Stephanie Sigman\n",
       "9                     The Dark Knight Rises         Tom Hardy"
      ]
     },
     "execution_count": 9,
     "metadata": {},
     "output_type": "execute_result"
    }
   ],
   "source": [
    "## stack the table, so that we only have two columns indicating the movie-actor relationship\n",
    "movie_actor = ma.set_index(\"title\").stack().reset_index().drop(\"level_1\",1).rename(columns = {0:\"name\"})\n",
    "movie_actor.head(10)"
   ]
  },
  {
   "cell_type": "code",
   "execution_count": 10,
   "id": "d55817f3-9520-417b-8775-c45c16cf6916",
   "metadata": {},
   "outputs": [],
   "source": [
    "movie_actor.to_csv(\"movie_actor.csv\")"
   ]
  },
  {
   "cell_type": "code",
   "execution_count": null,
   "id": "68840195-359d-4efc-ac58-5592314f6a23",
   "metadata": {},
   "outputs": [],
   "source": []
  }
 ],
 "metadata": {
  "kernelspec": {
   "display_name": "Python 3",
   "language": "python",
   "name": "python3"
  },
  "language_info": {
   "codemirror_mode": {
    "name": "ipython",
    "version": 3
   },
   "file_extension": ".py",
   "mimetype": "text/x-python",
   "name": "python",
   "nbconvert_exporter": "python",
   "pygments_lexer": "ipython3",
   "version": "3.8.8"
  }
 },
 "nbformat": 4,
 "nbformat_minor": 5
}
